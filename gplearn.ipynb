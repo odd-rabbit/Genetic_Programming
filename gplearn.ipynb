{
 "cells": [
  {
   "cell_type": "code",
   "execution_count": 1,
   "id": "a1c4afcf",
   "metadata": {},
   "outputs": [],
   "source": [
    "from gplearn import genetic\n",
    "import gplearn as gp\n",
    "import graphviz\n",
    "import pandas as pd \n",
    "import numpy as np\n",
    "import matplotlib.pyplot as plt\n",
    "import talib\n",
    "import gpfunc\n"
   ]
  },
  {
   "cell_type": "code",
   "execution_count": 2,
   "id": "ad23bb71",
   "metadata": {},
   "outputs": [],
   "source": [
    "row_df = pd.read_csv('BTCUSDT-1h.csv', index_col=0)\n",
    "o = np.array(row_df['open'])\n",
    "h = np.array(row_df['high'])\n",
    "l = np.array(row_df['low'])\n",
    "c = np.array(row_df['close'])\n",
    "v = np.array(row_df['volume'])\n",
    "df = row_df.copy()"
   ]
  },
  {
   "cell_type": "code",
   "execution_count": 3,
   "id": "7e346c9b",
   "metadata": {},
   "outputs": [],
   "source": [
    "# function_set = ['add', 'sub', 'mul', 'div',\n",
    "#                 'sqrt', 'log', 'abs', 'neg', 'inv',\n",
    "#                 'max', 'min', 'sin', 'cos', 'tan', \n",
    "#                 ]\n",
    "function_set = []"
   ]
  },
  {
   "cell_type": "code",
   "execution_count": 4,
   "id": "082ce200",
   "metadata": {},
   "outputs": [],
   "source": [
    "ts_min = gpfunc.ts_min\n",
    "ts_max = gpfunc.ts_max\n",
    "ts_argmin = gpfunc.ts_argmin\n",
    "ts_argmax = gpfunc.ts_argmax\n",
    "ts_rank = gpfunc.ts_rank\n",
    "ts_sum = gpfunc.ts_sum\n",
    "ts_std = gpfunc.ts_std\n",
    "func_list = {'ts_min':ts_min, 'ts_max':ts_max, 'ts_argmin':ts_argmin, \n",
    "             'ts_argmax':ts_argmax, 'ts_rank':ts_rank, 'ts_sum':ts_sum, \n",
    "             'ts_std':ts_std}\n",
    "for f in func_list:\n",
    "    function = gp.functions.make_function(function = func_list[f], name = f,arity = 1)\n",
    "    function_set.append(function)\n",
    "# function_set"
   ]
  },
  {
   "cell_type": "code",
   "execution_count": 5,
   "id": "a1620dd6",
   "metadata": {},
   "outputs": [],
   "source": [
    "def minmax_norm(df_input):\n",
    "    return (df - df.min()) / ( df.max() - df.min())"
   ]
  },
  {
   "cell_type": "code",
   "execution_count": 6,
   "id": "25521b6c",
   "metadata": {},
   "outputs": [
    {
     "name": "stdout",
     "output_type": "stream",
     "text": [
      "(31949, 2)\n",
      "(31949,)\n",
      "(7987, 2)\n",
      "(7987,)\n"
     ]
    }
   ],
   "source": [
    "data = row_df.iloc[:, 1:3]\n",
    "cut = int(0.8*len(data))\n",
    "x_train = np.array(data[:cut])\n",
    "y_train = np.array(row_df['close'][1:cut+1]) - np.array(row_df['close'][:cut])\n",
    "x_test = np.array(data[cut:-1])\n",
    "y_test = np.array(row_df['close'][cut+1:]) - np.array(row_df['close'][cut:-1])\n",
    "print(x_train.shape)\n",
    "print(y_train.shape)\n",
    "print(x_test.shape)\n",
    "print(y_test.shape)"
   ]
  },
  {
   "cell_type": "code",
   "execution_count": 7,
   "id": "bdbf2f6b",
   "metadata": {},
   "outputs": [
    {
     "data": {
      "image/png": "[encoded data removed]",
      "text/plain": [
       "<Figure size 432x288 with 1 Axes>"
      ]
     },
     "metadata": {
      "needs_background": "light"
     },
     "output_type": "display_data"
    }
   ],
   "source": [
    "st = genetic.SymbolicTransformer(generations=20,  # 公式进化的世代数量\n",
    "                          population_size=2000,  # 每一代生成因子数量\n",
    "                          n_components=4,  # 最终筛选出的最优因子的数量\n",
    "                          hall_of_fame=100,  # 备选因子的数量\n",
    "                          function_set=function_set,  # 函数集\n",
    "                          parsimony_coefficient=0.001,  # 节俭系数\n",
    "                          tournament_size=20,  # 作为父代的数量\n",
    "                          init_depth=(2, 6),  # 公式树的初始化深度\n",
    "                          metric='pearson', # 适应度指标，可以用make_fitness自定义\n",
    "                          const_range=(-1.0, 1.0),  # 因子中常数的取值范围\n",
    "                          p_crossover=0.9,  # 交叉变异概率\n",
    "                          p_subtree_mutation=0.03,  # 子树变异概率\n",
    "                          p_hoist_mutation=0.03,  # Hoist 变异概率\n",
    "                          p_point_mutation=0.03,  # 点变异概率\n",
    "                          p_point_replace=0.05,  # 点替代概率                         \n",
    "                          max_samples=0.9,  # 最大采样比例\n",
    "                          feature_names=data.columns,\n",
    "                          verbose=0,\n",
    "                          random_state=123,  # 随机数种子\n",
    "                          n_jobs=6,  # 并行计算使用的核心数量\n",
    "                         )\n",
    "out = st.fit(x_train, y_train)\n",
    "df_statistics = pd.DataFrame(st.run_details_)\n",
    "\n",
    "# 画学习曲线\n",
    "duration = df_statistics['generation_time'].sum() / 60\n",
    "x = df_statistics['generation']\n",
    "plt.plot(x, df_statistics['average_fitness'], label='average')\n",
    "plt.plot(x, df_statistics['best_fitness'], label='best')\n",
    "plt.plot(x, df_statistics['best_oob_fitness'], label='best_oob')\n",
    "plt.title('Learning Curve of Fitness, Time Cose:%.0fmin' % duration)\n",
    "plt.tight_layout()\n",
    "plt.legend(loc='best')\n",
    "plt.show()"
   ]
  },
  {
   "cell_type": "code",
   "execution_count": 8,
   "id": "d4c4c2bc",
   "metadata": {},
   "outputs": [],
   "source": [
    "from io import StringIO \n",
    "import sys\n",
    "\n",
    "class Capturing(list):\n",
    "    def __enter__(self):\n",
    "        self._stdout = sys.stdout\n",
    "        sys.stdout = self._stringio = StringIO()\n",
    "        return self\n",
    "    def __exit__(self, *args):\n",
    "        self.extend(self._stringio.getvalue().splitlines())\n",
    "        del self._stringio    # free up some memory\n",
    "        sys.stdout = self._stdout\n",
    "with Capturing() as output:\n",
    "    print(st._best_programs[0])\n",
    "output = output[0]"
   ]
  },
  {
   "cell_type": "code",
   "execution_count": 9,
   "id": "e540fcd0",
   "metadata": {},
   "outputs": [
    {
     "data": {
      "image/svg+xml": [
       "<?xml version=\"1.0\" encoding=\"UTF-8\" standalone=\"no\"?>\n",
       "<!DOCTYPE svg PUBLIC \"-//W3C//DTD SVG 1.1//EN\"\n",
       " \"http://www.w3.org/Graphics/SVG/1.1/DTD/svg11.dtd\">\n",
       "<!-- Generated by graphviz version 2.50.0 (20211204.2007)\n",
       " -->\n",
       "<!-- Title: program Pages: 1 -->\n",
       "<svg width=\"82pt\" height=\"332pt\"\n",
       " viewBox=\"0.00 0.00 82.09 332.00\" xmlns=\"http://www.w3.org/2000/svg\" xmlns:xlink=\"http://www.w3.org/1999/xlink\">\n",
       "<g id=\"graph0\" class=\"graph\" transform=\"scale(1 1) rotate(0) translate(4 328)\">\n",
       "<title>program</title>\n",
       "<polygon fill=\"white\" stroke=\"transparent\" points=\"-4,4 -4,-328 78.09,-328 78.09,4 -4,4\"/>\n",
       "<!-- 0 -->\n",
       "<g id=\"node1\" class=\"node\">\n",
       "<title>0</title>\n",
       "<ellipse fill=\"#136ed4\" stroke=\"black\" cx=\"37.05\" cy=\"-306\" rx=\"33.29\" ry=\"18\"/>\n",
       "<text text-anchor=\"middle\" x=\"37.05\" y=\"-302.3\" font-family=\"Times New Roman,serif\" font-size=\"14.00\">ts_std</text>\n",
       "</g>\n",
       "<!-- 1 -->\n",
       "<g id=\"node2\" class=\"node\">\n",
       "<title>1</title>\n",
       "<ellipse fill=\"#136ed4\" stroke=\"black\" cx=\"37.05\" cy=\"-234\" rx=\"35.19\" ry=\"18\"/>\n",
       "<text text-anchor=\"middle\" x=\"37.05\" y=\"-230.3\" font-family=\"Times New Roman,serif\" font-size=\"14.00\">ts_min</text>\n",
       "</g>\n",
       "<!-- 0&#45;&gt;1 -->\n",
       "<g id=\"edge4\" class=\"edge\">\n",
       "<title>0&#45;&gt;1</title>\n",
       "<path fill=\"none\" stroke=\"black\" d=\"M37.05,-287.7C37.05,-279.98 37.05,-270.71 37.05,-262.11\"/>\n",
       "<polygon fill=\"black\" stroke=\"black\" points=\"40.55,-262.1 37.05,-252.1 33.55,-262.1 40.55,-262.1\"/>\n",
       "</g>\n",
       "<!-- 2 -->\n",
       "<g id=\"node3\" class=\"node\">\n",
       "<title>2</title>\n",
       "<ellipse fill=\"#136ed4\" stroke=\"black\" cx=\"37.05\" cy=\"-162\" rx=\"35.19\" ry=\"18\"/>\n",
       "<text text-anchor=\"middle\" x=\"37.05\" y=\"-158.3\" font-family=\"Times New Roman,serif\" font-size=\"14.00\">ts_min</text>\n",
       "</g>\n",
       "<!-- 1&#45;&gt;2 -->\n",
       "<g id=\"edge3\" class=\"edge\">\n",
       "<title>1&#45;&gt;2</title>\n",
       "<path fill=\"none\" stroke=\"black\" d=\"M37.05,-215.7C37.05,-207.98 37.05,-198.71 37.05,-190.11\"/>\n",
       "<polygon fill=\"black\" stroke=\"black\" points=\"40.55,-190.1 37.05,-180.1 33.55,-190.1 40.55,-190.1\"/>\n",
       "</g>\n",
       "<!-- 3 -->\n",
       "<g id=\"node4\" class=\"node\">\n",
       "<title>3</title>\n",
       "<ellipse fill=\"#136ed4\" stroke=\"black\" cx=\"37.05\" cy=\"-90\" rx=\"37.09\" ry=\"18\"/>\n",
       "<text text-anchor=\"middle\" x=\"37.05\" y=\"-86.3\" font-family=\"Times New Roman,serif\" font-size=\"14.00\">ts_max</text>\n",
       "</g>\n",
       "<!-- 2&#45;&gt;3 -->\n",
       "<g id=\"edge2\" class=\"edge\">\n",
       "<title>2&#45;&gt;3</title>\n",
       "<path fill=\"none\" stroke=\"black\" d=\"M37.05,-143.7C37.05,-135.98 37.05,-126.71 37.05,-118.11\"/>\n",
       "<polygon fill=\"black\" stroke=\"black\" points=\"40.55,-118.1 37.05,-108.1 33.55,-118.1 40.55,-118.1\"/>\n",
       "</g>\n",
       "<!-- 4 -->\n",
       "<g id=\"node5\" class=\"node\">\n",
       "<title>4</title>\n",
       "<ellipse fill=\"#60a6f6\" stroke=\"black\" cx=\"37.05\" cy=\"-18\" rx=\"27\" ry=\"18\"/>\n",
       "<text text-anchor=\"middle\" x=\"37.05\" y=\"-14.3\" font-family=\"Times New Roman,serif\" font-size=\"14.00\">high</text>\n",
       "</g>\n",
       "<!-- 3&#45;&gt;4 -->\n",
       "<g id=\"edge1\" class=\"edge\">\n",
       "<title>3&#45;&gt;4</title>\n",
       "<path fill=\"none\" stroke=\"black\" d=\"M37.05,-71.7C37.05,-63.98 37.05,-54.71 37.05,-46.11\"/>\n",
       "<polygon fill=\"black\" stroke=\"black\" points=\"40.55,-46.1 37.05,-36.1 33.55,-46.1 40.55,-46.1\"/>\n",
       "</g>\n",
       "</g>\n",
       "</svg>\n"
      ],
      "text/plain": [
       "<graphviz.sources.Source at 0x256959390d0>"
      ]
     },
     "metadata": {},
     "output_type": "display_data"
    }
   ],
   "source": [
    "# for func in st._best_programs:\n",
    "#     dot_data = func.export_graphviz()\n",
    "#     graph = graphviz.Source(dot_data)\n",
    "#     display(graph)\n",
    "display(graphviz.Source(st._best_programs[0].export_graphviz()))"
   ]
  },
  {
   "cell_type": "code",
   "execution_count": 10,
   "id": "2599aba6",
   "metadata": {},
   "outputs": [
    {
     "data": {
      "text/latex": [
       "$\\displaystyle \\operatorname{ts_{std}}{\\left(\\operatorname{ts_{min}}{\\left(\\operatorname{ts_{min}}{\\left(\\operatorname{ts_{max}}{\\left(high \\right)} \\right)} \\right)} \\right)}$"
      ],
      "text/plain": [
       "ts_std(ts_min(ts_min(ts_max(high))))"
      ]
     },
     "execution_count": 10,
     "metadata": {},
     "output_type": "execute_result"
    }
   ],
   "source": [
    "from basicfunc import *\n",
    "converter = {\n",
    "    'sub': sub,\n",
    "    'div': div,\n",
    "    'mul': mul,\n",
    "    'add': add,\n",
    "    'neg': neg,\n",
    "    'pow': pow\n",
    "}\n",
    "import sympy\n",
    "sympy.sympify(output, locals=converter)"
   ]
  },
  {
   "cell_type": "code",
   "execution_count": 11,
   "id": "a52cba96",
   "metadata": {},
   "outputs": [
    {
     "data": {
      "text/plain": [
       "'ts_std(ts_min(ts_min(ts_max(high))))'"
      ]
     },
     "execution_count": 11,
     "metadata": {},
     "output_type": "execute_result"
    }
   ],
   "source": [
    "output"
   ]
  },
  {
   "cell_type": "code",
   "execution_count": 12,
   "id": "00a90335",
   "metadata": {},
   "outputs": [
    {
     "data": {
      "text/plain": [
       "[<matplotlib.lines.Line2D at 0x25691a468b0>]"
      ]
     },
     "execution_count": 12,
     "metadata": {},
     "output_type": "execute_result"
    },
    {
     "data": {
      "image/png": "[encoded data removed]",
      "text/plain": [
       "<Figure size 432x288 with 1 Axes>"
      ]
     },
     "metadata": {
      "needs_background": "light"
     },
     "output_type": "display_data"
    }
   ],
   "source": [
    "open = np.array(df['open'])\n",
    "low =  np.array(df['low'])\n",
    "high =  np.array(df['high'])\n",
    "close =  np.array(df['close'])\n",
    "volume =  np.array(df['volume'])\n",
    "\n",
    "result = np.array(eval(output))\n",
    "plt.plot(result)"
   ]
  },
  {
   "cell_type": "code",
   "execution_count": 13,
   "id": "34b07f2a",
   "metadata": {},
   "outputs": [
    {
     "data": {
      "text/plain": [
       "high    0.408999\n",
       "low     0.407085\n",
       "Name: target_func, dtype: float64"
      ]
     },
     "execution_count": 13,
     "metadata": {},
     "output_type": "execute_result"
    },
    {
     "data": {
      "image/png": "[encoded data removed]",
      "text/plain": [
       "<Figure size 432x288 with 1 Axes>"
      ]
     },
     "metadata": {
      "needs_background": "light"
     },
     "output_type": "display_data"
    }
   ],
   "source": [
    "evalute_df = data.copy()\n",
    "evalute_df['target_func'] = result\n",
    "# 找到相关性绝对值最强的列\n",
    "corr = evalute_df.corr()['target_func'].sort_values(ascending=False)[1:].abs().sort_values(ascending=False)\n",
    "plt.plot(np.array(df[corr.index[0]]))\n",
    "corr"
   ]
  }
 ],
 "metadata": {
  "kernelspec": {
   "display_name": "Python 3 (ipykernel)",
   "language": "python",
   "name": "python3"
  },
  "language_info": {
   "codemirror_mode": {
    "name": "ipython",
    "version": 3
   },
   "file_extension": ".py",
   "mimetype": "text/x-python",
   "name": "python",
   "nbconvert_exporter": "python",
   "pygments_lexer": "ipython3",
   "version": "3.9.7"
  }
 },
 "nbformat": 4,
 "nbformat_minor": 5
}
